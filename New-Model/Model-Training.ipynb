{
 "cells": [
  {
   "cell_type": "code",
   "execution_count": 1,
   "id": "f3f4646b-1492-46c2-b743-258708767521",
   "metadata": {},
   "outputs": [],
   "source": [
    "import numpy as np\n",
    "import pandas as pd\n",
    "import os\n",
    "from sklearn.preprocessing import StandardScaler\n",
    "from sklearn.pipeline import Pipeline\n",
    "from sklearn.linear_model import LogisticRegression\n",
    "from sklearn.model_selection import GridSearchCV\n",
    "from joblib import dump\n",
    "DIR_NAME = os.getcwd()\n",
    "TEST_YR = '18-19'"
   ]
  },
  {
   "cell_type": "code",
   "execution_count": 2,
   "id": "5c32c2f1-3f97-4a40-ba3f-b59360af4c4a",
   "metadata": {},
   "outputs": [],
   "source": [
    "full_df = pd.read_csv(DIR_NAME + '/Data/' + 'Feats.csv', \n",
    "                      index_col=[0,1])"
   ]
  },
  {
   "cell_type": "markdown",
   "id": "debf5a98-8b53-43ba-8d1c-1338f6b59341",
   "metadata": {},
   "source": [
    "Since the overall home win rate is almost constant throughout, the effect of the advangtage for the home team is captured by the intercept term so we drop it from the model"
   ]
  },
  {
   "cell_type": "code",
   "execution_count": 3,
   "id": "ccc7965a-113b-4dc9-8890-96c0a3650816",
   "metadata": {},
   "outputs": [],
   "source": [
    "X = full_df.iloc[:,1:5]\n",
    "y = full_df['FTR']\n",
    "mask = full_df.index.get_level_values(0) != TEST_YR\n",
    "X_tr = X[mask]\n",
    "y_tr = y[mask]\n",
    "X_test = X[~mask]\n",
    "y_test = y[~mask]"
   ]
  },
  {
   "cell_type": "code",
   "execution_count": 4,
   "id": "1921dce3-3c27-491e-99e4-0153337a6c7c",
   "metadata": {},
   "outputs": [],
   "source": [
    "def model_selection(mods, param_grids):\n",
    "    '''\n",
    "    Trains models and selects the one with smallest log loss. \n",
    "    Hyperparameter tuning and model selection done using cross-validation.\n",
    "    Parameters:\n",
    "    Mods (list): list of sklearn estimators\n",
    "    param_grids (list): list of dictionaries mapping hyperparameters to values \n",
    "    to be tested\n",
    "    Returns:\n",
    "    best_mod (estimator): the best model\n",
    "    \n",
    "    '''\n",
    "    best_log_loss = np.inf\n",
    "    best_mod = None\n",
    "    for mod, param_grid in zip(mods, param_grids):\n",
    "        clf = GridSearchCV(mod, param_grid, scoring=['neg_log_loss','accuracy'],\n",
    "                           refit='neg_log_loss')\n",
    "        clf.fit(X_tr, y_tr)\n",
    "        if clf.best_score_ < best_log_loss:\n",
    "            best_log_loss = clf.best_score_\n",
    "            best_mod = clf\n",
    "    \n",
    "    return best_mod\n",
    "        \n",
    "        "
   ]
  },
  {
   "cell_type": "code",
   "execution_count": 5,
   "id": "d1d4de1d-2f43-4b4f-8889-2d2e79e3c5fa",
   "metadata": {},
   "outputs": [],
   "source": [
    "mods = [Pipeline([(\n",
    "    'standardization', StandardScaler()), ('clf',LogisticRegression())])]\n",
    "param_grids = [{'clf__C': np.geomspace(1e-1, 1e1, 100)}]\n",
    "best_mod = model_selection(mods, param_grids)\n"
   ]
  },
  {
   "cell_type": "code",
   "execution_count": 6,
   "id": "838a9ff2-0414-4d8d-957d-702dcd2b5314",
   "metadata": {},
   "outputs": [
    {
     "data": {
      "text/plain": [
       "-0.9466265539398268"
      ]
     },
     "execution_count": 6,
     "metadata": {},
     "output_type": "execute_result"
    }
   ],
   "source": [
    "best_mod.score(X_test, y_test)"
   ]
  },
  {
   "cell_type": "code",
   "execution_count": 7,
   "id": "6e2d0e36-8fc1-4916-b1b4-0313af09336f",
   "metadata": {},
   "outputs": [
    {
     "data": {
      "text/plain": [
       "0.579136690647482"
      ]
     },
     "execution_count": 7,
     "metadata": {},
     "output_type": "execute_result"
    }
   ],
   "source": [
    "((best_mod.predict(X_test) == y_test).sum()) / y_test.shape[0]"
   ]
  },
  {
   "cell_type": "code",
   "execution_count": 8,
   "id": "3e78d85e-6c8d-444c-b7f0-fd998f6b7cc2",
   "metadata": {},
   "outputs": [
    {
     "data": {
      "text/plain": [
       "array([[-0.23739684,  0.21996692, -0.06305141,  0.17921413],\n",
       "       [-0.05458513, -0.03002893, -0.01334554,  0.03636626],\n",
       "       [ 0.29198197, -0.18993799,  0.07639694, -0.2155804 ]])"
      ]
     },
     "execution_count": 8,
     "metadata": {},
     "output_type": "execute_result"
    }
   ],
   "source": [
    "best_mod.best_estimator_['clf'].coef_"
   ]
  },
  {
   "cell_type": "code",
   "execution_count": 9,
   "id": "c03aa5dd-be15-402b-a7b7-a6c4177d08c4",
   "metadata": {},
   "outputs": [
    {
     "data": {
      "text/plain": [
       "['Mods/mod.joblib']"
      ]
     },
     "execution_count": 9,
     "metadata": {},
     "output_type": "execute_result"
    }
   ],
   "source": [
    "dump(best_mod, 'Mods/mod.joblib')"
   ]
  }
 ],
 "metadata": {
  "kernelspec": {
   "display_name": "Python 3 (ipykernel)",
   "language": "python",
   "name": "python3"
  },
  "language_info": {
   "codemirror_mode": {
    "name": "ipython",
    "version": 3
   },
   "file_extension": ".py",
   "mimetype": "text/x-python",
   "name": "python",
   "nbconvert_exporter": "python",
   "pygments_lexer": "ipython3",
   "version": "3.8.2"
  }
 },
 "nbformat": 4,
 "nbformat_minor": 5
}
