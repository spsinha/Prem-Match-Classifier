{
 "cells": [
  {
   "cell_type": "code",
   "execution_count": 1,
   "id": "a6eb9b2f-80b4-4e3d-90a3-dfe6f5c10c12",
   "metadata": {},
   "outputs": [],
   "source": [
    "import numpy as np\n",
    "import pandas as pd\n",
    "from joblib import load\n",
    "import os\n",
    "DIR_NAME = os.getcwd()\n",
    "TEST_YR = '18-19'\n",
    "BET_COLS = ['B365H','B365D','B365A']"
   ]
  },
  {
   "cell_type": "code",
   "execution_count": 2,
   "id": "4e6e5b2b-97a6-477f-b890-24e6be910e71",
   "metadata": {},
   "outputs": [],
   "source": [
    "clf = load(DIR_NAME + '/Mods/mod.joblib')\n",
    "full_df = pd.read_csv(DIR_NAME + '/Data/' + 'Feats.csv', index_col=[0,1])\n",
    "X = full_df.iloc[:,1:5]\n",
    "y = full_df['FTR']\n",
    "mask = full_df.index.get_level_values(0) != TEST_YR\n",
    "X_test = X[~mask]\n",
    "y_test = pd.Series(y[~mask].values, name='Result')\n",
    "odds_df = full_df[~mask].loc[:,BET_COLS]"
   ]
  },
  {
   "cell_type": "code",
   "execution_count": 3,
   "id": "5290b5ad-4d40-4fe6-b30d-da94fb69d526",
   "metadata": {},
   "outputs": [],
   "source": [
    "def gen_betting_df(clf, X_test, y_test, odds_df):\n",
    "    '''\n",
    "    Computes the probabilities, predictions and amount wagered, according to the kelly criterion, for the test set.\n",
    "    Stores results in DataFrame, along with the bookmakers' odds associated with the outcome bet on.\n",
    "    Parameters:\n",
    "    clf (estimator): the best classifier\n",
    "    X_test (np Array): the test features\n",
    "    y_test (np Array): the test labels\n",
    "    odds_df (DataFrame): Dataframe containing the odds associated with the 3 possible outcomes of a match\n",
    "    Returns:\n",
    "    betting_df (Dataframe): Dataframe as described above\n",
    "    '''\n",
    "    probs = pd.Series(clf.predict_proba(X_test).max(axis=1), name='Prob')\n",
    "    preds = pd.Series(clf.predict(X_test), name='Prediction')\n",
    "    odds = pd.Series(np.where(preds == 'H', odds_df['B365H'], odds_df['B365A']), name='Odds')\n",
    "    kelly_wager = pd.Series(probs - (1-probs)/(odds-1), name='Wager')\n",
    "    return pd.concat((probs, preds, odds, kelly_wager, y_test),axis=1)\n",
    "    \n",
    "    "
   ]
  },
  {
   "cell_type": "code",
   "execution_count": 4,
   "id": "7b7bc96a-62fd-4a2e-ada5-4575cd3a5a7a",
   "metadata": {},
   "outputs": [],
   "source": [
    "bet_df = gen_betting_df(clf, X_test, y_test, odds_df)"
   ]
  },
  {
   "cell_type": "code",
   "execution_count": 5,
   "id": "c3c70da4-2bd7-492f-a9b2-5fe5ee59e641",
   "metadata": {},
   "outputs": [],
   "source": [
    "mask = (bet_df['Wager'] > 0) & (bet_df['Prob'] > .75)\n",
    "total_wagered = bet_df[mask]['Wager'].sum()\n",
    "final_value = sum(np.where(bet_df[mask]['Prediction']==bet_df[mask]['Result'], bet_df[mask]['Wager']*bet_df[mask]['Odds'], -bet_df[mask]['Wager']))"
   ]
  },
  {
   "cell_type": "code",
   "execution_count": 6,
   "id": "815a5fec-6824-494b-91d6-47ab2005ec73",
   "metadata": {},
   "outputs": [
    {
     "data": {
      "text/plain": [
       "0.42096616131499115"
      ]
     },
     "execution_count": 6,
     "metadata": {},
     "output_type": "execute_result"
    }
   ],
   "source": [
    "(final_value - total_wagered) / total_wagered"
   ]
  }
 ],
 "metadata": {
  "kernelspec": {
   "display_name": "Python 3 (ipykernel)",
   "language": "python",
   "name": "python3"
  },
  "language_info": {
   "codemirror_mode": {
    "name": "ipython",
    "version": 3
   },
   "file_extension": ".py",
   "mimetype": "text/x-python",
   "name": "python",
   "nbconvert_exporter": "python",
   "pygments_lexer": "ipython3",
   "version": "3.8.2"
  }
 },
 "nbformat": 4,
 "nbformat_minor": 5
}
