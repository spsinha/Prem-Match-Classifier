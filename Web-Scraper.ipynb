{
 "cells": [
  {
   "cell_type": "code",
   "execution_count": 1,
   "metadata": {},
   "outputs": [],
   "source": [
    "import requests\n",
    "from bs4 import BeautifulSoup\n",
    "import pandas as pd\n"
   ]
  },
  {
   "cell_type": "code",
   "execution_count": 2,
   "metadata": {},
   "outputs": [],
   "source": [
    "YR_BEG = 2013\n",
    "YR_END = 2019\n",
    "RD_START = 3\n",
    "RD_END = 38"
   ]
  },
  {
   "cell_type": "code",
   "execution_count": 3,
   "metadata": {},
   "outputs": [],
   "source": [
    "txt = ''\n",
    "for yr in [str(i) + '-' + str(i+1) for i in range(YR_BEG,YR_END)]:\n",
    "    for rd in range(RD_START, RD_END):\n",
    "        r = requests.get('https://www.worldfootball.net/schedule/eng-premier-league-{}-spieltag/{}/'.format(yr,rd))\n",
    "        txt += r.text\n"
   ]
  },
  {
   "cell_type": "code",
   "execution_count": 4,
   "metadata": {},
   "outputs": [],
   "source": [
    "soup = BeautifulSoup(txt, 'html.parser')\n",
    "tbls = [str(tag.parent.parent) for tag in soup.find_all('th', {'colspan':2})]\n",
    "dfs = []\n",
    "for tbl in tbls:\n",
    "    dfs.append(pd.read_html(tbl)[0].dropna(axis=1)[['Team.1', 'M.']])\n"
   ]
  },
  {
   "cell_type": "code",
   "execution_count": 5,
   "metadata": {},
   "outputs": [
    {
     "name": "stdout",
     "output_type": "stream",
     "text": [
      "210\n"
     ]
    }
   ],
   "source": [
    "idx = 0\n",
    "for yr in [str(i) + '-' + str(i+1) for i in range(YR_BEG, YR_END)]:\n",
    "    for rd in range(RD_START, RD_END):\n",
    "        fpath = 'data/table-{}-{}.csv'.format(yr, rd)\n",
    "        dfs[idx].to_csv(fpath)\n",
    "        idx += 1\n",
    "print(idx)"
   ]
  }
 ],
 "metadata": {
  "kernelspec": {
   "display_name": "Python 3",
   "language": "python",
   "name": "python3"
  },
  "language_info": {
   "codemirror_mode": {
    "name": "ipython",
    "version": 3
   },
   "file_extension": ".py",
   "mimetype": "text/x-python",
   "name": "python",
   "nbconvert_exporter": "python",
   "pygments_lexer": "ipython3",
   "version": "3.8.5"
  }
 },
 "nbformat": 4,
 "nbformat_minor": 4
}
